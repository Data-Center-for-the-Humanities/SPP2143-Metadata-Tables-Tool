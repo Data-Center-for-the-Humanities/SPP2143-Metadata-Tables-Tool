{
 "cells": [
  {
   "cell_type": "code",
   "execution_count": null,
   "metadata": {},
   "outputs": [],
   "source": [
    "#Harvest metadata from Geoserver\n",
    "# \n",
    "#Da wir die API nicht ansteuern können, muss der Dublin-Core Metadatensatz zu einem Datenlayer manuell heuntergeladen werden.\n",
    "#Der Metadatensatz wird in einem XML-File gespeichert."
   ]
  },
  {
   "cell_type": "code",
   "execution_count": 1,
   "metadata": {},
   "outputs": [],
   "source": [
    "#Parameters for test in ipynb\n",
    "\n",
    "testdata = \"Archaeobotanical Shea Tree Evidence_Dublin_Core_Metadata.xml\""
   ]
  },
  {
   "cell_type": "code",
   "execution_count": 6,
   "metadata": {},
   "outputs": [
    {
     "name": "stdout",
     "output_type": "stream",
     "text": [
      "Archaeobotanical Shea Tree Evidence\n"
     ]
    }
   ],
   "source": [
    "#Variables\n",
    "data = {}\n",
    "\n",
    "#read xml metadata file\n",
    "import xml.etree.ElementTree as ET\n",
    "tree = ET.parse(testdata)\n",
    "root = tree.getroot()\n",
    "\n",
    "#get the element title\n",
    "for object in root.iter('{http://purl.org/dc/elements/1.1/}title'):\n",
    "    data['title'] = object.text\n",
    "    title = object.text\n",
    "    print(title)"
   ]
  },
  {
   "cell_type": "markdown",
   "metadata": {},
   "source": []
  },
  {
   "cell_type": "code",
   "execution_count": null,
   "metadata": {},
   "outputs": [],
   "source": [
    "#Constant Values only for this repository\n",
    "\n"
   ]
  },
  {
   "cell_type": "code",
   "execution_count": null,
   "metadata": {},
   "outputs": [],
   "source": [
    "#Functions\n",
    "\n",
    "#Returns the identifier of the entity\n",
    "def geoserver_identifier(root):\n",
    "    for object in root.iter('{http://purl.org/dc/elements/1.1/}identifier'):\n",
    "        data['identifier'] = object.text\n",
    "        identifier = object.text\n",
    "    return identifier\n",
    "\n",
    "#Returns the title of the entity\n",
    "def geoserver_title(root):\n",
    "    for object in root.iter('{http://purl.org/dc/elements/1.1/}title'):\n",
    "        data['title'] = object.text\n",
    "        title = object.text\n",
    "    return title\n",
    "\n",
    "#Returns the description of the entity\n",
    "def geoserver_description(root):\n",
    "    for object in root.iter('{http://purl.org/dc/elements/1.1/}abstract'):\n",
    "        data['abstract'] = object.text\n",
    "        description = object.text\n",
    "    return description\n",
    "\n",
    "#Returns the date of issue of the entity\n",
    "def geoserver_issued(root):\n",
    "    for object in root.iter('{http://purl.org/dc/elements/1.1/}date'):\n",
    "        data['date'] = object.text\n",
    "        issued = object.text\n",
    "    return issued\n",
    "\n",
    "    #Returns the date of modification of the entity\n",
    "def geoserver_modified(root):\n",
    "    for object in root.iter('{http://purl.org/dc/elements/1.1/}modified'):\n",
    "        data['modified'] = object.text\n",
    "        modified = object.text\n",
    "    return modified\n",
    "\n",
    "    #Returns the creator name of the entity\n",
    "def geoserver_creator_name(root):\n",
    "    for object in root.iter('{http://purl.org/dc/elements/1.1/}creator'):\n",
    "        data['creator'] = object.text\n",
    "        creator_name = object.text\n",
    "    return creator_name\n",
    "  \n",
    "    #Returns the owner name of the entity\n",
    "def geoserver_owner_name(root):\n",
    "    for object in root.iter('{http://purl.org/dc/elements/1.1/}Owner'):\n",
    "        data['Owner'] = object.text\n",
    "        owner_name = object.text\n",
    "    return owner_name\n",
    "\n",
    "    #Returns the responsible name of the entity\n",
    "def geoserver_responsible_name(root):\n",
    "    for object in root.iter('{http://purl.org/dc/elements/1.1/}individualName'):\n",
    "        data['individualName'] = object.text\n",
    "        responsible_name = object.text\n",
    "    return responsible_name\n",
    "    \n",
    "    #Returns the original id of the entity\n",
    "def geoserver_has_original_id(root):\n",
    "    for object in root.iter('{http://purl.org/dc/elements/1.1/}fileIdentifier'):\n",
    "        data['fileIdentifier'] = object.text\n",
    "        has_original_id = object.text\n",
    "    return has_original_id\n",
    "\n",
    "    #Returns the landing page of the entity\n",
    "def geoserver_has_landing_page(root):\n",
    "    for object in root.iter('{http://purl.org/dc/elements/1.1/}DOI'):\n",
    "        data['DOI'] = object.text\n",
    "        has_landing_page = object.text\n",
    "    return has_landing_page\n",
    "\n",
    "    #Returns the access rights of the entity\n",
    "def geoserver_has_access_rights(root):\n",
    "    for object in root.iter('{http://purl.org/dc/elements/1.1/}rights'):\n",
    "        data['rights'] = object.text\n",
    "        has_access_rights = object.text\n",
    "    return has_access_rights\n",
    "\n",
    "    #Returns the extent of the entity\n",
    "def geoserver_has_extent(root):\n",
    "    for object in root.iter('{http://purl.org/dc/elements/1.1/}EX_extent'):\n",
    "        data['EX_extent'] = object.text\n",
    "        has_extent = object.text\n",
    "    return has_extent\n",
    "\n",
    "    #Returns the coordinate system of the entity\n",
    "def geoserver_has_coordinate_system(root):\n",
    "    for object in root.iter('{http://purl.org/dc/elements/1.1/}RS_Identifier'):\n",
    "        data['RS_Identifier'] = object.text\n",
    "        has_coordinate_system = object.text\n",
    "    return has_coordinate_system\n",
    "\n",
    "    #Returns the bounding box of the entity\n",
    "def geoserver_is_bbox(root):\n",
    "    for object in root.iter('{http://purl.org/dc/elements/1.1/}BoundingBox'):\n",
    "        data['BoundingBox'] = object.text\n",
    "        is_bbox = object.text\n",
    "    return is_bbox\n",
    "\n",
    "    #Returns the bounding box minimal latitude of the entity\n",
    "def geoserver_has_bounding_box_min_lat(root):\n",
    "    for object in root.iter('{http://purl.org/dc/elements/1.1/}northBoundLatitude'):\n",
    "        data['northBoundLatitude'] = object.text\n",
    "        has_bounding_box_min_lat = object.text\n",
    "    return has_bounding_box_min_lat\n",
    "\n",
    "    #Returns the bounding box minimal longitude of the entity\n",
    "def geoserver_has_bounding_box_min_lon(root):\n",
    "    for object in root.iter('{http://purl.org/dc/elements/1.1/}westBoundLongitude'):\n",
    "        data['westBoundLongitude'] = object.text\n",
    "        has_bounding_box_min_lon = object.text\n",
    "    return has_bounding_box_min_lon\n",
    "\n",
    "    #Returns the bounding box maximal latitude of the entity\n",
    "def geoserver_has_bounding_box_max_lat(root):\n",
    "    for object in root.iter('{http://purl.org/dc/elements/1.1/}southBoundLatitude'):\n",
    "        data['southBoundLatitude'] = object.text\n",
    "        has_bounding_box_max_lat = object.text\n",
    "    return has_bounding_box_max_lat\n",
    "    \n",
    "    #Returns the bounding box maximal longitude of the entity\n",
    "def geoserver_has_bounding_box_max_lon(root):\n",
    "    for object in root.iter('{http://purl.org/dc/elements/1.1/}eastBoundLongitude'):\n",
    "        data['eastBoundLongitude'] = object.text\n",
    "        has_bounding_box_max_lon = object.text\n",
    "    return has_bounding_box_max_lon\n",
    "\n",
    "\n"
   ]
  },
  {
   "cell_type": "code",
   "execution_count": null,
   "metadata": {},
   "outputs": [
    {
     "name": "stdout",
     "output_type": "stream",
     "text": [
      "Archaeobotanical Shea Tree Evidence\n"
     ]
    }
   ],
   "source": [
    "#Test functions\n",
    "\n",
    "title = geoserver_title(root)\n",
    "print(title)\n",
    "\n",
    "description = geoserver_description(root)\n",
    "print(description)"
   ]
  }
 ],
 "metadata": {
  "kernelspec": {
   "display_name": "Python 3",
   "language": "python",
   "name": "python3"
  },
  "language_info": {
   "codemirror_mode": {
    "name": "ipython",
    "version": 3
   },
   "file_extension": ".py",
   "mimetype": "text/x-python",
   "name": "python",
   "nbconvert_exporter": "python",
   "pygments_lexer": "ipython3",
   "version": "3.12.9"
  }
 },
 "nbformat": 4,
 "nbformat_minor": 2
}
