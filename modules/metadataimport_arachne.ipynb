{
 "cells": [
  {
   "cell_type": "code",
   "execution_count": 2,
   "metadata": {},
   "outputs": [],
   "source": [
    "#Harvest metadata from Arachne\n",
    "# \n",
    "#Given an entity ID."
   ]
  },
  {
   "cell_type": "code",
   "execution_count": 3,
   "metadata": {},
   "outputs": [],
   "source": [
    "#Parameters for test in ipynb\n",
    "test_id = \"6945889\""
   ]
  },
  {
   "cell_type": "code",
   "execution_count": 4,
   "metadata": {},
   "outputs": [],
   "source": [
    "#Variables\n",
    "arachne_api = \"https://arachne.dainst.org/data/entity/\"\n",
    "data = {}\n",
    "\n",
    "#Libraries\n",
    "import requests\n",
    "import json"
   ]
  },
  {
   "cell_type": "code",
   "execution_count": null,
   "metadata": {},
   "outputs": [],
   "source": [
    "#Constant Values only for this repository\n",
    "# has language = deutsch\n",
    "# has_access_rights = BY-NC-ND 3.0\n"
   ]
  },
  {
   "cell_type": "code",
   "execution_count": null,
   "metadata": {},
   "outputs": [],
   "source": [
    "#Functions\n",
    "\n",
    "#Retrieves the whhole json object and saves it to the variable data\n",
    "def arachne_get_metadata(arachne_api, entity_id, data):\n",
    "    url = arachne_api + entity_id\n",
    "    response = requests.get(url)\n",
    "    data = response.json()\n",
    "    return data\n",
    "\n",
    "#Returns the title of the entity\n",
    "def arachne_title(data):\n",
    "    title = data[\"title\"]\n",
    "    return title\n",
    "\n",
    "#Returns the description of the entity\n",
    "#LL: description mappt auf Beschreibung!\n",
    "#SK bin mir mit den Unterkategorien nicht sicher\n",
    "def arachne_description(data):\n",
    "    description = data[\"sections\"][\"label\"][\"Beschreibung\"]\n",
    "    return description\n",
    "\n",
    "#Returns the original_id of the entity\n",
    "def arachne_has_original_id(data):\n",
    "    has_original_id = data[\"entityId\"]\n",
    "    return has_original_id\n",
    "\n",
    "#Returns the landing page of the entity\n",
    "#SK:hat Subkategorie!\n",
    "def arachne_has_landing_page(data):\n",
    "    has_landing_page = data[\"@id\"]\n",
    "    return has_landing_page\n",
    "\n",
    "#Returns the temporal coverage of the entity\n",
    "def arachne_has_temporal_coverage(data):\n",
    "    has_temporal_coverage = data[\"dates\"][\"label\"]\n",
    "    return has_temporal_coverage\n",
    "\n",
    "#Returns the spatial coverage of the entity\n",
    "def arachne_has_spatial_coverage(data):\n",
    "    has_spatial_coverage = data[\"facet_locality\"]\n",
    "    return has_spatial_coverage\n",
    "\n",
    "#Returns the period of the entity\n",
    "def arachne_has_period(data):\n",
    "    has_period = data[\"facet_datierungsepoche\"]\n",
    "    return has_period\n",
    "\n",
    "\n",
    "#Returns the latitude of the point of the entity\n",
    "def arachne_point_lat(data):\n",
    "    point_lat = data[\"places\"][\"location\"][\"lat\"]\n",
    "    return point_lat\n",
    "\n",
    "#Returns the longitude of the point of the entity\n",
    "def arachne_point_long(data):\n",
    "    point_long = data[\"places\"][\"location\"][\"lat\"]\n",
    "    return point_long\n",
    "\n",
    "#Returns the \"is_polygon\" of the entity\n",
    "def arachne_is_polygon(data):\n",
    "    is_polygon = data[\"\"]\n",
    "    return is_polygon\n",
    "\n",
    "#Returns the polygon of the entity\n",
    "#Im Beispiel kein Polygon\n",
    "def arachne_polygon(data):\n",
    "    is_polygon = data[\"\"]\n",
    "    return is_polygon\n",
    "\n",
    "#Returns the \"is_bbox\" of the entity\n",
    "def arachne_is_bbox(data):\n",
    "    is_bbox = data[\"\"]\n",
    "    return is_bbox\n",
    "\n",
    "#Returns the bounding box minimum latitude of the entity\n",
    "#Im Beispiel keine Bounding Box\n",
    "def arachne_has_bounding_box_min_lat(data):\n",
    "    has_bounding_box_min_lat = data[\"\"]\n",
    "    return has_bounding_box_min_lat\n",
    "\n",
    "#Returns the bounding box minimum longitude of the entity\n",
    "#Im Beispiel keine Bounding Box\n",
    "def arachne_has_bounding_box_min_lon(data):\n",
    "    has_bounding_box_min_lon = data[\"\"]\n",
    "    return has_bounding_box_min_lon\n",
    "\n",
    "#Returns the bounding box maximum latitude of the entity\n",
    "#Im Beispiel keine Bounding Box\n",
    "def arachne_has_bounding_box_max_lat(data):\n",
    "    has_bounding_box_max_lat = data[\"\"]\n",
    "    return has_bounding_box_max_lat\n",
    "\n",
    "#Returns the bounding box maximum longitude of the entity\n",
    "#Im Beispiel keine Bounding Box\n",
    "def arachne_has_bounding_box_max_lon(data):\n",
    "    has_bounding_box_max_lon = data[\"\"]\n",
    "    return has_bounding_box_max_lon\n",
    "\n",
    "#Returns the place name of the entity\n",
    "def arachne_has_place_name(data):\n",
    "    has_place_name = data[\"\"]\n",
    "    return has_place_name"
   ]
  },
  {
   "cell_type": "code",
   "execution_count": 7,
   "metadata": {},
   "outputs": [
    {
     "name": "stdout",
     "output_type": "stream",
     "text": [
      "{'facet_geo': ['{\"name\":\"Borno, Nigeria, Mege (NA 94/7)\",\"location\":{\"lat\":\"12.3\",\"lon\":\"14.3\"},\"gazetteerId\":2767992}'], 'facet_locality': ['Mege (NA 94/7)'], 'references': [{'reference': 'A. Ballouche – K. Neumann, A new contribution to the Holocene vegetation history of the West African Sahel: pollen from Oursi, Burkina Faso and charcoal from three sites in northeast Nigeria, Veget Hist Archaebot 4, 1, 1995', 'zenonId': '002034966'}, {'reference': 'P. Breunig – K. Neumann – W. Van Neer, New research on the Holocene settlement and environment of the Chad Basin in Nigeria, Afr Archaeol Rev 13, 2, 1996', 'zenonId': '002034935'}, {'reference': 'G. Bigga – S. Kahlheber, From gathering to agricultural intensification: Archaeobotanical remains from Mege, Chad Basin, NE Nigeria, in: Windows on the African Past. Current approaches to African archaeobotany. (Frankfurt 2011) 19–65', 'zenonId': '002034928'}, {'reference': 'P. Breunig – G. Franke, Archaeological map of Northeast Nigeria (Frankfurt 2019)', 'zenonId': '002059085'}, {'reference': 'K. Brunk – D. Gronenborn, Floods, droughts, and migrations. The effects of Late Holocene lake level oscillations and climate fluctuations on the settlement and political history in the Chad Basin, in: M. Krings – E. Platte (eds.), Living with the Lake (Köln 2004) 101–132', 'zenonId': '002058833'}, {'reference': 'B. Zach – M. Klee, Four thousand years of plant exploitation in the Chad Basin of NE Nigeria II: discussion on the morphology of caryopses of domesticated Pennisetum and complete catalogue of the fruits and seeds of Kursakata, Vegetation History and Archaeobotany 12, 3, 2003, 187–204', 'zenonId': '002034940'}, {'reference': 'G. Connah, The Daima Sequence and the Prehistoric Chronology of the Lake Chad Region of Nigeria, J. Afr. Hist. 17, 3, 1976, 321–352', 'zenonId': '002034961'}, {'reference': 'M. Klee – B. Zach – K. Neumann, Four thousand years of plant exploitation in the Chad Basin of northeast Nigeria I: The archaeobotany of Kursakata, Veget Hist Archaebot 9, 4, 2000, 223–237', 'zenonId': '002034937'}, {'reference': 'M. Klee – B. Zach – H.-P. Stika, Four thousand years of plant exploitation in the Lake Chad Basin (Nigeria), part III: plant impressions in potsherds from the Final Stone Age Gajiganna Culture*, Veget Hist Archaeobot 13, 2, 2004', 'zenonId': '002034936'}, {'reference': 'D. Gronenborn, Archaeological and Ethnohistorical Investigations Along the Southern Fringes of Lake Chad, 1993–1996, African Archaeological Review 15, 4, 1998, 225–260.', 'zenonId': '002034946'}, {'reference': 'A. Höhn – P. Breunig – D. Gronenborn – K. Neumann, After the flood and with the people – Late Holocene changes of the woody vegetation in the southwestern Chad Basin, Nigeria, Quaternary International, 2020', 'zenonId': '002059086'}, {'reference': 'C. Magnavita, Recent archaeological finds of domesticated Sorghum bicolor in the Lake Chad region, Nyame akuma, 57, 2002, 14–20', 'zenonId': '002034910'}, {'reference': 'C. Magnavita – P. Breunig – D. Ishaya – O. Adebayo, Iron Age beginnings at the Southwestern margins of Lake Chad, in: Crossroads/Carrefour Sahel, Journal of African Archaeology Monograph Series 2 (Frankfurt 2009)', 'zenonId': '002034929'}, {'reference': 'A. Fahmy – C. Magnavita, Phytoliths in a Silo: Micro-botanical Evidence from Zilum (Lake Chad Basin), NE Nigeria (C. 500 Cal BC), Journal of Biological Sciences 6, 5, 2006, 824–832', 'zenonId': '002034965'}, {'reference': 'B. Wiesmüller, Die Entwicklung der Keramik von 3000 BP bis zur Gegenwart in den Tonebenen südlich des Tschadsees (Goethe-Universität 2001)', 'zenonId': '002034943'}], 'facet_city': ['Borno'], 'facet_land': ['Nigeria'], 'facet_topographieart': ['anthropogen'], 'type': 'Topographien', 'title': 'Mege, Archaeological site', 'internalId': 8014661, 'thumbnailId': 6973957, 'imageSize': 196, '@id': 'http://arachne.dainst.org/entity/6945889', 'facet_ort': ['Borno, Nigeria'], 'images': [{'imageId': 6973957, 'imageSubtitle': 'SPP2143-P05-Mege-00-02-06133-PB_8014661,1'}, {'imageId': 6973958, 'imageSubtitle': 'SPP2143-P05-Mege-00-03-06189-PB_8014661,2'}, {'imageId': 6973959, 'imageSubtitle': 'SPP2143-P05-Mege-00-04-20118-PB_8014661,3'}, {'imageId': 6973960, 'imageSubtitle': 'SPP2143-P05-Mege-00-05-04098-DG_8014661,4'}, {'imageId': 6973961, 'imageSubtitle': 'SPP2143-P05-Mege-A2-140-150-4-001_8014661,5'}, {'imageId': 6973962, 'imageSubtitle': 'SPP2143-P05-Mege-A2-140-150-4-002_8014661,6'}, {'imageId': 6973963, 'imageSubtitle': 'SPP2143-P05-Mege-A2-140-150-4-003_8014661,7'}, {'imageId': 6973964, 'imageSubtitle': 'SPP2143-P05-Mege-A2-140-150-4-004_8014661,8'}, {'imageId': 6973965, 'imageSubtitle': 'SPP2143-P05-Mege-A2-140-150-4-006_8014661,9'}, {'imageId': 6973966, 'imageSubtitle': 'SPP2143-P05-Mege-A2-140-150-4-008_8014661,10'}, {'imageId': 6973967, 'imageSubtitle': 'SPP2143-P05-Mege-A2-140-150-4-009_8014661,11'}, {'imageId': 6973968, 'imageSubtitle': 'SPP2143-P05-Mege-A2-140-150-4-010_8014661,12'}, {'imageId': 6973969, 'imageSubtitle': 'SPP2143-P05-Mege-A2-140-150-4-012_8014661,13'}, {'imageId': 6973970, 'imageSubtitle': 'SPP2143-P05-Mege-A2-140-150-4-013_8014661,14'}, {'imageId': 6973971, 'imageSubtitle': 'SPP2143-P05-Mege-A2-140-150-4-014_8014661,15'}, {'imageId': 6973972, 'imageSubtitle': 'SPP2143-P05-Mege-A2-140-150-4-017_8014661,16'}, {'imageId': 6973973, 'imageSubtitle': 'SPP2143-P05-Mege-A2-140-150-4-018_8014661,17'}, {'imageId': 6973979, 'imageSubtitle': 'SPP2143-P05-Mege-A2-140-150-19-001_8014661,18'}, {'imageId': 6973980, 'imageSubtitle': 'SPP2143-P05-Mege-A2-140-150-19-002_8014661,19'}, {'imageId': 6973981, 'imageSubtitle': 'SPP2143-P05-Mege-A2-140-150-19-003_8014661,20'}, {'imageId': 6973982, 'imageSubtitle': 'SPP2143-P05-Mege-A2-140-150-19-005_8014661,21'}, {'imageId': 6973983, 'imageSubtitle': 'SPP2143-P05-Mege-A2-140-150-19-006_8014661,22'}, {'imageId': 6973984, 'imageSubtitle': 'SPP2143-P05-Mege-A2-140-150-19-007_8014661,23'}, {'imageId': 6973985, 'imageSubtitle': 'SPP2143-P05-Mege-A2-140-150-19-008_8014661,24'}, {'imageId': 6973986, 'imageSubtitle': 'SPP2143-P05-Mege-A2-140-150-19-010_8014661,25'}, {'imageId': 6973987, 'imageSubtitle': 'SPP2143-P05-Mege-A2-140-150-19-011_8014661,26'}, {'imageId': 6973988, 'imageSubtitle': 'SPP2143-P05-Mege-A2-140-150-19-012_8014661,27'}, {'imageId': 6973989, 'imageSubtitle': 'SPP2143-P05-Mege-A2-140-150-19-013_8014661,28'}, {'imageId': 6973990, 'imageSubtitle': 'SPP2143-P05-Mege-A2-140-150-19-015_8014661,29'}, {'imageId': 6973991, 'imageSubtitle': 'SPP2143-P05-Mege-A2-140-150-19-016_8014661,30'}, {'imageId': 6973992, 'imageSubtitle': 'SPP2143-P05-Mege-A2-140-150-19-017_8014661,31'}, {'imageId': 6973993, 'imageSubtitle': 'SPP2143-P05-Mege-A2-140-150-19-018_8014661,32'}, {'imageId': 6973994, 'imageSubtitle': 'SPP2143-P05-Mege-A2-140-150-19-019_8014661,33'}, {'imageId': 6973995, 'imageSubtitle': 'SPP2143-P05-Mege-A2-140-150-19-021_8014661,34'}, {'imageId': 6973996, 'imageSubtitle': 'SPP2143-P05-Mege-A2-140-150-19-022_8014661,35'}, {'imageId': 6973997, 'imageSubtitle': 'SPP2143-P05-Mege-A2-140-150-19-023_8014661,36'}, {'imageId': 6973998, 'imageSubtitle': 'SPP2143-P05-Mege-A2-140-150-19-024_8014661,37'}, {'imageId': 6973999, 'imageSubtitle': 'SPP2143-P05-Mege-A2-140-150-19-025_8014661,38'}, {'imageId': 6973974, 'imageSubtitle': 'SPP2143-P05-Mege-A2-470-1-004_8014661,39'}, {'imageId': 6973975, 'imageSubtitle': 'SPP2143-P05-Mege-A2-470-1-006_8014661,40'}, {'imageId': 6973976, 'imageSubtitle': 'SPP2143-P05-Mege-A2-470-1-006b_8014661,41'}, {'imageId': 6973977, 'imageSubtitle': 'SPP2143-P05-Mege-A2-470-1-009_8014661,42'}, {'imageId': 6973978, 'imageSubtitle': 'SPP2143-P05-Mege-A2-470-1-012_8014661,43'}, {'imageId': 6974000, 'imageSubtitle': 'SPP2143-P05-Mege-A2-470-1a-001_8014661,44'}, {'imageId': 6974001, 'imageSubtitle': 'SPP2143-P05-Mege-A2-470-1a-002_8014661,45'}, {'imageId': 6974002, 'imageSubtitle': 'SPP2143-P05-Mege-A2-470-1a-003_8014661,46'}, {'imageId': 6974003, 'imageSubtitle': 'SPP2143-P05-Mege-A2-470-1a-004_8014661,47'}, {'imageId': 6974004, 'imageSubtitle': 'SPP2143-P05-Mege-A2-470-1a-005_8014661,48'}, {'imageId': 6974005, 'imageSubtitle': 'SPP2143-P05-Mege-A2-470-1a-006_8014661,49'}, {'imageId': 6974006, 'imageSubtitle': 'SPP2143-P05-Mege-A2-470-1a-007_8014661,50'}, {'imageId': 6974007, 'imageSubtitle': 'SPP2143-P05-Mege-A2-470-1a-009_8014661,51'}, {'imageId': 6974008, 'imageSubtitle': 'SPP2143-P05-Mege-A2-470-1a-013_8014661,52'}, {'imageId': 6974009, 'imageSubtitle': 'SPP2143-P05-Mege-A2-470-1a-015_8014661,53'}, {'imageId': 6974010, 'imageSubtitle': 'SPP2143-P05-Mege-A2-520-1-001_8014661,54'}, {'imageId': 6974011, 'imageSubtitle': 'SPP2143-P05-Mege-A2-520-1-002_8014661,55'}, {'imageId': 6974012, 'imageSubtitle': 'SPP2143-P05-Mege-A2-520-1-003_8014661,56'}, {'imageId': 6974013, 'imageSubtitle': 'SPP2143-P05-Mege-A2-520-1-005_8014661,57'}, {'imageId': 6974014, 'imageSubtitle': 'SPP2143-P05-Mege-A2-520-1-009_8014661,58'}, {'imageId': 6974015, 'imageSubtitle': 'SPP2143-P05-Mege-A2-520-1-010_8014661,59'}, {'imageId': 6974016, 'imageSubtitle': 'SPP2143-P05-Mege-A2-520-1-011_8014661,60'}, {'imageId': 6974017, 'imageSubtitle': 'SPP2143-P05-Mege-A2-520-1-013_8014661,61'}, {'imageId': 6974018, 'imageSubtitle': 'SPP2143-P05-Mege-A2-520-1-014_8014661,62'}, {'imageId': 6974019, 'imageSubtitle': 'SPP2143-P05-Mege-A2-520-1-015_8014661,63'}, {'imageId': 6974020, 'imageSubtitle': 'SPP2143-P05-Mege-A2-520-1-016_8014661,64'}, {'imageId': 6974021, 'imageSubtitle': 'SPP2143-P05-Mege-A2-520-1-018_8014661,65'}, {'imageId': 6974022, 'imageSubtitle': 'SPP2143-P05-Mege-A2-520-1-018b_8014661,66'}, {'imageId': 6974023, 'imageSubtitle': 'SPP2143-P05-Mege-A2-520-3-001_8014661,67'}, {'imageId': 6974024, 'imageSubtitle': 'SPP2143-P05-Mege-A2-520-3-002_8014661,68'}, {'imageId': 6974025, 'imageSubtitle': 'SPP2143-P05-Mege-A2-520-3-004_8014661,69'}, {'imageId': 6974026, 'imageSubtitle': 'SPP2143-P05-Mege-A2-520-3-007_8014661,70'}, {'imageId': 6974027, 'imageSubtitle': 'SPP2143-P05-Mege-A2-520-3-009_8014661,71'}, {'imageId': 6974028, 'imageSubtitle': 'SPP2143-P05-Mege-A2-520-3-010_8014661,72'}, {'imageId': 6974029, 'imageSubtitle': 'SPP2143-P05-Mege-A2-520-3-013_8014661,73'}, {'imageId': 6974030, 'imageSubtitle': 'SPP2143-P05-Mege-A2-520-3-014_8014661,74'}, {'imageId': 6974031, 'imageSubtitle': 'SPP2143-P05-Mege-A2-520-3-015_8014661,75'}, {'imageId': 6974032, 'imageSubtitle': 'SPP2143-P05-Mege-B3-640-1-001_8014661,76'}, {'imageId': 6974033, 'imageSubtitle': 'SPP2143-P05-Mege-B3-640-1-002_8014661,77'}, {'imageId': 6974034, 'imageSubtitle': 'SPP2143-P05-Mege-B3-640-1-003_8014661,78'}, {'imageId': 6974035, 'imageSubtitle': 'SPP2143-P05-Mege-B3-640-1-004_8014661,79'}, {'imageId': 6974036, 'imageSubtitle': 'SPP2143-P05-Mege-B3-640-1-006_8014661,80'}, {'imageId': 6974037, 'imageSubtitle': 'SPP2143-P05-Mege-B3-640-1-007_8014661,81'}, {'imageId': 6974038, 'imageSubtitle': 'SPP2143-P05-Mege-B3-640-1-008_8014661,82'}, {'imageId': 6974039, 'imageSubtitle': 'SPP2143-P05-Mege-B3-640-1-009_8014661,83'}, {'imageId': 6974040, 'imageSubtitle': 'SPP2143-P05-Mege-B3-640-1-010_8014661,84'}, {'imageId': 6974041, 'imageSubtitle': 'SPP2143-P05-Mege-B3-640-1-011_8014661,85'}, {'imageId': 6974042, 'imageSubtitle': 'SPP2143-P05-Mege-B3-640-1-012_8014661,86'}, {'imageId': 6974043, 'imageSubtitle': 'SPP2143-P05-Mege-B3-640-1-013_8014661,87'}, {'imageId': 6974044, 'imageSubtitle': 'SPP2143-P05-Mege-B3-640-1-014_8014661,88'}, {'imageId': 6974045, 'imageSubtitle': 'SPP2143-P05-Mege-B3-640-3-001_8014661,89'}, {'imageId': 6974046, 'imageSubtitle': 'SPP2143-P05-Mege-B3-640-3-002_8014661,90'}, {'imageId': 6974047, 'imageSubtitle': 'SPP2143-P05-Mege-B3-640-3-003_8014661,91'}, {'imageId': 6974048, 'imageSubtitle': 'SPP2143-P05-Mege-B3-640-3-004_8014661,92'}, {'imageId': 6974049, 'imageSubtitle': 'SPP2143-P05-Mege-B3-640-3-005_8014661,93'}, {'imageId': 6974050, 'imageSubtitle': 'SPP2143-P05-Mege-B3-640-3-006_8014661,94'}, {'imageId': 6974051, 'imageSubtitle': 'SPP2143-P05-Mege-B3-640-3-007_8014661,95'}, {'imageId': 6974052, 'imageSubtitle': 'SPP2143-P05-Mege-B3-640-3-008_8014661,96'}, {'imageId': 6974053, 'imageSubtitle': 'SPP2143-P05-Mege-C2-150-11-001_8014661,97'}, {'imageId': 6974054, 'imageSubtitle': 'SPP2143-P05-Mege-C2-150-11-002_8014661,98'}, {'imageId': 6974055, 'imageSubtitle': 'SPP2143-P05-Mege-C2-150-11-003_8014661,99'}, {'imageId': 6974056, 'imageSubtitle': 'SPP2143-P05-Mege-C2-150-11-004_8014661,100'}, {'imageId': 6974057, 'imageSubtitle': 'SPP2143-P05-Mege-C2-150-11-005_8014661,101'}, {'imageId': 6974058, 'imageSubtitle': 'SPP2143-P05-Mege-C2-150-11-006_8014661,102'}, {'imageId': 6974059, 'imageSubtitle': 'SPP2143-P05-Mege-C2-150-11-007_8014661,103'}, {'imageId': 6974060, 'imageSubtitle': 'SPP2143-P05-Mege-C2-150-11-008_8014661,104'}, {'imageId': 6974061, 'imageSubtitle': 'SPP2143-P05-Mege-C2-150-11-009_8014661,105'}, {'imageId': 6974062, 'imageSubtitle': 'SPP2143-P05-Mege-C2-150-11-010_8014661,106'}, {'imageId': 6974063, 'imageSubtitle': 'SPP2143-P05-Mege-C2-150-11-013_8014661,107'}, {'imageId': 6974064, 'imageSubtitle': 'SPP2143-P05-Mege-C2-150-11-014_8014661,108'}, {'imageId': 6974065, 'imageSubtitle': 'SPP2143-P05-Mege-C2-150-11-015_8014661,109'}, {'imageId': 6974066, 'imageSubtitle': 'SPP2143-P05-Mege-C2-150-11-016_8014661,110'}, {'imageId': 6974067, 'imageSubtitle': 'SPP2143-P05-Mege-C2-150-11-018_8014661,111'}, {'imageId': 6974068, 'imageSubtitle': 'SPP2143-P05-Mege-C2-150-11-019_8014661,112'}, {'imageId': 6974069, 'imageSubtitle': 'SPP2143-P05-Mege-C2-150-11-021_8014661,113'}, {'imageId': 6974070, 'imageSubtitle': 'SPP2143-P05-Mege-C2-150-11-022_8014661,114'}, {'imageId': 6974071, 'imageSubtitle': 'SPP2143-P05-Mege-C2-150-11-023_8014661,115'}, {'imageId': 6974072, 'imageSubtitle': 'SPP2143-P05-Mege-C2-150-11-024_8014661,116'}, {'imageId': 6974073, 'imageSubtitle': 'SPP2143-P05-Mege-C2-150-16-001_8014661,117'}, {'imageId': 6974074, 'imageSubtitle': 'SPP2143-P05-Mege-C2-150-16-002_8014661,118'}, {'imageId': 6974075, 'imageSubtitle': 'SPP2143-P05-Mege-C2-150-16-003_8014661,119'}, {'imageId': 6974076, 'imageSubtitle': 'SPP2143-P05-Mege-C2-150-16-004_8014661,120'}, {'imageId': 6974077, 'imageSubtitle': 'SPP2143-P05-Mege-C2-150-16-005_8014661,121'}, {'imageId': 6974078, 'imageSubtitle': 'SPP2143-P05-Mege-C2-150-16-006_8014661,122'}, {'imageId': 6974079, 'imageSubtitle': 'SPP2143-P05-Mege-C2-150-16-007_8014661,123'}, {'imageId': 6974080, 'imageSubtitle': 'SPP2143-P05-Mege-C2-150-16-008_8014661,124'}, {'imageId': 6974081, 'imageSubtitle': 'SPP2143-P05-Mege-C2-150-16-009_8014661,125'}, {'imageId': 6974082, 'imageSubtitle': 'SPP2143-P05-Mege-C2-150-16-010_8014661,126'}, {'imageId': 6974083, 'imageSubtitle': 'SPP2143-P05-Mege-C2-150-16-012_8014661,127'}, {'imageId': 6974084, 'imageSubtitle': 'SPP2143-P05-Mege-C2-150-16-013_8014661,128'}, {'imageId': 6974085, 'imageSubtitle': 'SPP2143-P05-Mege-C2-150-16-014_8014661,129'}, {'imageId': 6974086, 'imageSubtitle': 'SPP2143-P05-Mege-C2-150-25-001_8014661,130'}, {'imageId': 6974087, 'imageSubtitle': 'SPP2143-P05-Mege-C2-150-25-002_8014661,131'}, {'imageId': 6974088, 'imageSubtitle': 'SPP2143-P05-Mege-C2-150-25-003_8014661,132'}, {'imageId': 6974089, 'imageSubtitle': 'SPP2143-P05-Mege-C2-150-25-004_8014661,133'}, {'imageId': 6974090, 'imageSubtitle': 'SPP2143-P05-Mege-C2-150-25-005_8014661,134'}, {'imageId': 6974091, 'imageSubtitle': 'SPP2143-P05-Mege-C2-150-25-006_8014661,135'}, {'imageId': 6974092, 'imageSubtitle': 'SPP2143-P05-Mege-C2-150-25-007_8014661,136'}, {'imageId': 6974093, 'imageSubtitle': 'SPP2143-P05-Mege-C2-150-25-008_8014661,137'}, {'imageId': 6974094, 'imageSubtitle': 'SPP2143-P05-Mege-C2-150-25-009_8014661,138'}, {'imageId': 6974095, 'imageSubtitle': 'SPP2143-P05-Mege-C2-150-25-010_8014661,139'}, {'imageId': 6974096, 'imageSubtitle': 'SPP2143-P05-Mege-C2-150-25-011_8014661,140'}, {'imageId': 6974097, 'imageSubtitle': 'SPP2143-P05-Mege-C2-150-25-012_8014661,141'}, {'imageId': 6974098, 'imageSubtitle': 'SPP2143-P05-Mege-C2-150-25-013_8014661,142'}, {'imageId': 6974099, 'imageSubtitle': 'SPP2143-P05-Mege-C2-150-25-014_8014661,143'}, {'imageId': 6974100, 'imageSubtitle': 'SPP2143-P05-Mege-C2-540-1-001_8014661,144'}, {'imageId': 6974101, 'imageSubtitle': 'SPP2143-P05-Mege-C2-540-1-002_8014661,145'}, {'imageId': 6974102, 'imageSubtitle': 'SPP2143-P05-Mege-C2-540-1-003_8014661,146'}, {'imageId': 6974103, 'imageSubtitle': 'SPP2143-P05-Mege-C2-540-1-004_8014661,147'}, {'imageId': 6974104, 'imageSubtitle': 'SPP2143-P05-Mege-C2-540-1-005_8014661,148'}, {'imageId': 6974105, 'imageSubtitle': 'SPP2143-P05-Mege-C2-540-1-006_8014661,149'}, {'imageId': 6974106, 'imageSubtitle': 'SPP2143-P05-Mege-C2-540-1-007_8014661,150'}, {'imageId': 6974107, 'imageSubtitle': 'SPP2143-P05-Mege-C2-540-1-008_8014661,151'}, {'imageId': 6974108, 'imageSubtitle': 'SPP2143-P05-Mege-C2-540-1-009_8014661,152'}, {'imageId': 6974109, 'imageSubtitle': 'SPP2143-P05-Mege-C2-540-1-011_8014661,153'}, {'imageId': 6974110, 'imageSubtitle': 'SPP2143-P05-Mege-C2-540-1-012_8014661,154'}, {'imageId': 6974138, 'imageSubtitle': 'SPP2143-P05-Mege-C2-600-11-001_8014661,155'}, {'imageId': 6974139, 'imageSubtitle': 'SPP2143-P05-Mege-C2-600-11-002_8014661,156'}, {'imageId': 6974140, 'imageSubtitle': 'SPP2143-P05-Mege-C2-600-11-003_8014661,157'}, {'imageId': 6974141, 'imageSubtitle': 'SPP2143-P05-Mege-C2-600-11-004_8014661,158'}, {'imageId': 6974142, 'imageSubtitle': 'SPP2143-P05-Mege-C2-600-11-005_8014661,159'}, {'imageId': 6974143, 'imageSubtitle': 'SPP2143-P05-Mege-C2-600-11-006_8014661,160'}, {'imageId': 6974144, 'imageSubtitle': 'SPP2143-P05-Mege-C2-600-11-007_8014661,161'}, {'imageId': 6974145, 'imageSubtitle': 'SPP2143-P05-Mege-C2-600-11-008_8014661,162'}, {'imageId': 6974146, 'imageSubtitle': 'SPP2143-P05-Mege-C2-600-11-009_8014661,163'}, {'imageId': 6974147, 'imageSubtitle': 'SPP2143-P05-Mege-C2-600-11-010_8014661,164'}, {'imageId': 6974148, 'imageSubtitle': 'SPP2143-P05-Mege-C2-600-11-011_8014661,165'}, {'imageId': 6974149, 'imageSubtitle': 'SPP2143-P05-Mege-C2-600-11-012_8014661,166'}, {'imageId': 6974150, 'imageSubtitle': 'SPP2143-P05-Mege-C2-600-11-013_8014661,167'}, {'imageId': 6974151, 'imageSubtitle': 'SPP2143-P05-Mege-C2-600-11-014_8014661,168'}, {'imageId': 6974111, 'imageSubtitle': 'SPP2143-P05-Mege-C2-600-2-001_8014661,169'}, {'imageId': 6974112, 'imageSubtitle': 'SPP2143-P05-Mege-C2-600-2-002_8014661,170'}, {'imageId': 6974113, 'imageSubtitle': 'SPP2143-P05-Mege-C2-600-2-003_8014661,171'}, {'imageId': 6974114, 'imageSubtitle': 'SPP2143-P05-Mege-C2-600-2-005_8014661,172'}, {'imageId': 6974115, 'imageSubtitle': 'SPP2143-P05-Mege-C2-600-2-006_8014661,173'}, {'imageId': 6974116, 'imageSubtitle': 'SPP2143-P05-Mege-C2-600-2-007_8014661,174'}, {'imageId': 6974117, 'imageSubtitle': 'SPP2143-P05-Mege-C2-600-2-008_8014661,175'}, {'imageId': 6974118, 'imageSubtitle': 'SPP2143-P05-Mege-C2-600-2-009_8014661,176'}, {'imageId': 6974119, 'imageSubtitle': 'SPP2143-P05-Mege-C2-600-2-011_8014661,177'}, {'imageId': 6974120, 'imageSubtitle': 'SPP2143-P05-Mege-C2-600-2-012_8014661,178'}, {'imageId': 6974121, 'imageSubtitle': 'SPP2143-P05-Mege-C2-600-2-013_8014661,179'}, {'imageId': 6974122, 'imageSubtitle': 'SPP2143-P05-Mege-C2-600-2-014_8014661,180'}, {'imageId': 6974123, 'imageSubtitle': 'SPP2143-P05-Mege-C2-600-2-015_8014661,181'}, {'imageId': 6974124, 'imageSubtitle': 'SPP2143-P05-Mege-C2-600-2-016_8014661,182'}, {'imageId': 6974125, 'imageSubtitle': 'SPP2143-P05-Mege-C2-600-2-017_8014661,183'}, {'imageId': 6974126, 'imageSubtitle': 'SPP2143-P05-Mege-C2-600-2-018_8014661,184'}, {'imageId': 6974127, 'imageSubtitle': 'SPP2143-P05-Mege-C2-600-2-019_8014661,185'}, {'imageId': 6974128, 'imageSubtitle': 'SPP2143-P05-Mege-C2-600-2-020_8014661,186'}, {'imageId': 6974129, 'imageSubtitle': 'SPP2143-P05-Mege-C2-600-3-001_8014661,187'}, {'imageId': 6974130, 'imageSubtitle': 'SPP2143-P05-Mege-C2-600-3-002_8014661,188'}, {'imageId': 6974131, 'imageSubtitle': 'SPP2143-P05-Mege-C2-600-3-003_8014661,189'}, {'imageId': 6974132, 'imageSubtitle': 'SPP2143-P05-Mege-C2-600-3-004_8014661,190'}, {'imageId': 6974133, 'imageSubtitle': 'SPP2143-P05-Mege-C2-600-3-005_8014661,191'}, {'imageId': 6974134, 'imageSubtitle': 'SPP2143-P05-Mege-C2-600-3-006_8014661,192'}, {'imageId': 6974135, 'imageSubtitle': 'SPP2143-P05-Mege-C2-600-3-007_8014661,193'}, {'imageId': 6974136, 'imageSubtitle': 'SPP2143-P05-Mege-C2-600-3-008_8014661,194'}, {'imageId': 6974137, 'imageSubtitle': 'SPP2143-P05-Mege-C2-600-3-009_8014661,195'}, {'imageId': 6973956, 'imageSubtitle': 'SPP2143-P05-Mege-00-01-06132-PB_8014661,196'}], 'facet_kategorie': ['Topographien'], 'datasetGroup': 'Arachne', 'entityId': 6945889, 'dates': [{'label': 'Firgi Later Stone Age ', 'relation': 'Datierung'}, {'label': 'Firgi Late Iron Age', 'relation': 'Datierung'}], 'sections': [{'label': 'Informationen zur Topographie', 'content': [{'label': 'Lokalisierung', 'content': [{'value': '<a href=\"http://gazetteer.dainst.org/place/2767992\" target=\"_blank\">Mege (NA 94/7), Borno, Nigeria,</a>'}]}, {'label': 'Datierung', 'content': [{'value': 'Firgi Later Stone Age  <a href=\"https://chronontology.dainst.org/period/7gN02I1AQpyv\" target=\"_blank\">(Chronontology)</a>  - Firgi Late Iron Age <a href=\"https://chronontology.dainst.org/period/I7sbaAachmvJ\" target=\"_blank\">(Chronontology)</a>'}]}, {'label': 'Beschreibung', 'content': [{'value': 'anthropogen<hr>Zusatz: settlement mound, excavation<hr>Freie Beschreibung: Mege is a large settlement mound located in the southwestern Chad Basin. It has a diameter of c.\\xa0500 m and a height of c. eight meters. The cultural deposits accumulated on a shallow sand dune, which protrudes island-like above the clay plains of the so-called firgi-region. The region became accessible for human occupation only about 3000 years ago, after the lake levels had started to fall in the Late Holocene.\\r\\nThe excavation covered three by three meters and reached down to seven meters. Despite some stratigraphic hiatuses, it covers about 2800 years and is thus one of the most complete Late Holocene archaeological sequences in NE Nigeria. The cultural deposits date from the firgi Late Stone Age up to the abandonment in 1983. The basal layer dates between c. 900 and 800 BCE. Iron Age occupations start in the second half of the first millennium CE and continue until the 15th/17th century CE. The uppermost layers date to the historical period and up to 1983.\\r\\nSources: \\r\\n\\r\\nBreunig, P., & Franke, G. (2019). Archaeological map of Northeast Nigeria. Africa Magna.\\r\\n\\r\\nGronenborn, D. (1998). Archaeological and Ethnohistorical Investigations Along the Southern Fringes of Lake Chad, 1993–1996. African Archaeological Review, 15(4), 225–260.'}]}, {'label': 'Literatur', 'content': [{'value': ['A. Ballouche – K. Neumann, A new contribution to the Holocene vegetation history of the West African Sahel: pollen from Oursi, Burkina Faso and charcoal from three sites in northeast Nigeria, Veget Hist Archaebot 4, 1, 1995 <a href=\"https://zenon.dainst.org/Record/002034966\" target=\"_blank\">Zenon</a>', 'G. Bigga – S. Kahlheber, From gathering to agricultural intensification: Archaeobotanical remains from Mege, Chad Basin, NE Nigeria, in: Windows on the African Past. Current approaches to African archaeobotany. (Frankfurt 2011) 19–65 <a href=\"https://zenon.dainst.org/Record/002034928\" target=\"_blank\">Zenon</a>', 'P. Breunig – K. Neumann – W. Van Neer, New research on the Holocene settlement and environment of the Chad Basin in Nigeria, Afr Archaeol Rev 13, 2, 1996 <a href=\"https://zenon.dainst.org/Record/002034935\" target=\"_blank\">Zenon</a>', 'P. Breunig – G. Franke, Archaeological map of Northeast Nigeria (Frankfurt 2019) <a href=\"https://zenon.dainst.org/Record/002059085\" target=\"_blank\">Zenon</a>', 'K. Brunk – D. Gronenborn, Floods, droughts, and migrations. The effects of Late Holocene lake level oscillations and climate fluctuations on the settlement and political history in the Chad Basin, in: M. Krings – E. Platte (eds.), Living with the Lake (Köln 2004) 101–132 <a href=\"https://zenon.dainst.org/Record/002058833\" target=\"_blank\">Zenon</a>', 'G. Connah, The Daima Sequence and the Prehistoric Chronology of the Lake Chad Region of Nigeria, J. Afr. Hist. 17, 3, 1976, 321–352 <a href=\"https://zenon.dainst.org/Record/002034961\" target=\"_blank\">Zenon</a>', 'B. Zach – M. Klee, Four thousand years of plant exploitation in the Chad Basin of NE Nigeria II: discussion on the morphology of caryopses of domesticated Pennisetum and complete catalogue of the fruits and seeds of Kursakata, Vegetation History and Archaeobotany 12, 3, 2003, 187–204 <a href=\"https://zenon.dainst.org/Record/002034940\" target=\"_blank\">Zenon</a>', 'M. Klee – B. Zach – K. Neumann, Four thousand years of plant exploitation in the Chad Basin of northeast Nigeria I: The archaeobotany of Kursakata, Veget Hist Archaebot 9, 4, 2000, 223–237 <a href=\"https://zenon.dainst.org/Record/002034937\" target=\"_blank\">Zenon</a>', 'M. Klee – B. Zach – H.-P. Stika, Four thousand years of plant exploitation in the Lake Chad Basin (Nigeria), part III: plant impressions in potsherds from the Final Stone Age Gajiganna Culture*, Veget Hist Archaeobot 13, 2, 2004 <a href=\"https://zenon.dainst.org/Record/002034936\" target=\"_blank\">Zenon</a>', 'D. Gronenborn, Archaeological and Ethnohistorical Investigations Along the Southern Fringes of Lake Chad, 1993–1996, African Archaeological Review 15, 4, 1998, 225–260. <a href=\"https://zenon.dainst.org/Record/002034946\" target=\"_blank\">Zenon</a>', 'A. Höhn – P. Breunig – D. Gronenborn – K. Neumann, After the flood and with the people – Late Holocene changes of the woody vegetation in the southwestern Chad Basin, Nigeria, Quaternary International, 2020 <a href=\"https://zenon.dainst.org/Record/002059086\" target=\"_blank\">Zenon</a>', 'C. Magnavita, Recent archaeological finds of domesticated Sorghum bicolor in the Lake Chad region, Nyame akuma, 57, 2002, 14–20 <a href=\"https://zenon.dainst.org/Record/002034910\" target=\"_blank\">Zenon</a>', 'C. Magnavita – P. Breunig – D. Ishaya – O. Adebayo, Iron Age beginnings at the Southwestern margins of Lake Chad, in: Crossroads/Carrefour Sahel, Journal of African Archaeology Monograph Series 2 (Frankfurt 2009) <a href=\"https://zenon.dainst.org/Record/002034929\" target=\"_blank\">Zenon</a>', 'A. Fahmy – C. Magnavita, Phytoliths in a Silo: Micro-botanical Evidence from Zilum (Lake Chad Basin), NE Nigeria (C. 500 Cal BC), Journal of Biological Sciences 6, 5, 2006, 824–832 <a href=\"https://zenon.dainst.org/Record/002034965\" target=\"_blank\">Zenon</a>', 'B. Wiesmüller, Die Entwicklung der Keramik von 3000 BP bis zur Gegenwart in den Tonebenen südlich des Tschadsees (Goethe-Universität 2001) <a href=\"https://zenon.dainst.org/Record/002034943\" target=\"_blank\">Zenon</a>']}]}]}], 'catalogIds': [954, 940, 942], 'catalogPaths': ['940/607892/607893/616957/616958/616959', '942/607904/608357/608361/608364/608365/608363', '954/608573/608663/608669/608582'], 'places': [{'country': 'Nigeria', 'city': 'Borno', 'gazetteerId': 2767992, 'name': 'Borno, Nigeria, Mege (NA 94/7)', 'locality': 'Mege (NA 94/7)', 'location': {'lon': '14.3', 'lat': '12.3'}}], 'subtitle': 'Borno, Nigeria', 'facet_datierungepoche': ['Firgi Late Iron Age', 'Firgi Later Stone Age '], 'facet_literatur': ['A. Ballouche – K. Neumann, A new contribution to the Holocene vegetation history of the West African Sahel: pollen from Oursi, Burkina Faso and charcoal from three sites in northeast Nigeria, Veget Hist Archaebot 4, 1, 1995', 'P. Breunig – K. Neumann – W. Van Neer, New research on the Holocene settlement and environment of the Chad Basin in Nigeria, Afr Archaeol Rev 13, 2, 1996', 'G. Bigga – S. Kahlheber, From gathering to agricultural intensification: Archaeobotanical remains from Mege, Chad Basin, NE Nigeria, in: Windows on the African Past. Current approaches to African archaeobotany. (Frankfurt 2011) 19–65', 'P. Breunig – G. Franke, Archaeological map of Northeast Nigeria (Frankfurt 2019)', 'K. Brunk – D. Gronenborn, Floods, droughts, and migrations. The effects of Late Holocene lake level oscillations and climate fluctuations on the settlement and political history in the Chad Basin, in: M. Krings – E. Platte (eds.), Living with the Lake (Köln 2004) 101–132', 'B. Zach – M. Klee, Four thousand years of plant exploitation in the Chad Basin of NE Nigeria II: discussion on the morphology of caryopses of domesticated Pennisetum and complete catalogue of the fruits and seeds of Kursakata, Vegetation History and Archaeobotany 12, 3, 2003, 187–204', 'G. Connah, The Daima Sequence and the Prehistoric Chronology of the Lake Chad Region of Nigeria, J. Afr. Hist. 17, 3, 1976, 321–352', 'M. Klee – B. Zach – K. Neumann, Four thousand years of plant exploitation in the Chad Basin of northeast Nigeria I: The archaeobotany of Kursakata, Veget Hist Archaebot 9, 4, 2000, 223–237', 'M. Klee – B. Zach – H.-P. Stika, Four thousand years of plant exploitation in the Lake Chad Basin (Nigeria)', 'D. Gronenborn, Archaeological and Ethnohistorical Investigations Along the Southern Fringes of Lake Chad, 1993–1996, African Archaeological Review 15, 4, 1998, 225–260.', 'A. Höhn – P. Breunig – D. Gronenborn – K. Neumann, After the flood and with the people – Late Holocene changes of the woody vegetation in the southwestern Chad Basin, Nigeria, Quaternary International, 2020', 'C. Magnavita, Recent archaeological finds of domesticated Sorghum bicolor in the Lake Chad region, Nyame akuma, 57, 2002, 14–20', 'C. Magnavita – P. Breunig – D. Ishaya – O. Adebayo, Iron Age beginnings at the Southwestern margins of Lake Chad, in: Crossroads/Carrefour Sahel, Journal of African Archaeology Monograph Series 2 (Frankfurt 2009)', 'A. Fahmy – C. Magnavita, Phytoliths in a Silo: Micro-botanical Evidence from Zilum (Lake Chad Basin), NE Nigeria (C. 500 Cal BC), Journal of Biological Sciences 6, 5, 2006, 824–832', 'B. Wiesmüller, Die Entwicklung der Keramik von 3000 BP bis zur Gegenwart in den Tonebenen südlich des Tschadsees (Goethe-Universität 2001)'], 'ids': ['6945889', '8014661'], 'facet_image': ['ja'], 'lastModified': 1621509193000}\n",
      "Mege, Archaeological site\n"
     ]
    },
    {
     "ename": "KeyError",
     "evalue": "'identifier'",
     "output_type": "error",
     "traceback": [
      "\u001b[1;31m---------------------------------------------------------------------------\u001b[0m",
      "\u001b[1;31mKeyError\u001b[0m                                  Traceback (most recent call last)",
      "Cell \u001b[1;32mIn [7], line 9\u001b[0m\n\u001b[0;32m      6\u001b[0m title \u001b[38;5;241m=\u001b[39m arachne_title(data)\n\u001b[0;32m      7\u001b[0m \u001b[38;5;28mprint\u001b[39m(title)\n\u001b[1;32m----> 9\u001b[0m identifier \u001b[38;5;241m=\u001b[39m \u001b[43marachne_identifier\u001b[49m\u001b[43m(\u001b[49m\u001b[43mdata\u001b[49m\u001b[43m)\u001b[49m\n\u001b[0;32m     10\u001b[0m \u001b[38;5;28mprint\u001b[39m(identifier)\n\u001b[0;32m     12\u001b[0m description \u001b[38;5;241m=\u001b[39m arachne_description(data)\n",
      "Cell \u001b[1;32mIn [6], line 17\u001b[0m, in \u001b[0;36marachne_identifier\u001b[1;34m(data)\u001b[0m\n\u001b[0;32m     16\u001b[0m \u001b[38;5;28;01mdef\u001b[39;00m \u001b[38;5;21marachne_identifier\u001b[39m(data):\n\u001b[1;32m---> 17\u001b[0m     identifier \u001b[38;5;241m=\u001b[39m \u001b[43mdata\u001b[49m\u001b[43m[\u001b[49m\u001b[38;5;124;43m\"\u001b[39;49m\u001b[38;5;124;43midentifier\u001b[39;49m\u001b[38;5;124;43m\"\u001b[39;49m\u001b[43m]\u001b[49m\n\u001b[0;32m     18\u001b[0m     \u001b[38;5;28;01mreturn\u001b[39;00m identifier\n",
      "\u001b[1;31mKeyError\u001b[0m: 'identifier'"
     ]
    }
   ],
   "source": [
    "#Test functions\n",
    "\n",
    "data = arachne_get_metadata(arachne_api, test_id, data)\n",
    "print(data)\n",
    "\n",
    "title = arachne_title(data)\n",
    "print(title)\n",
    "\n",
    "identifier = arachne_identifier(data)\n",
    "print(identifier)\n",
    "\n",
    "description = arachne_description(data)\n",
    "print(description)\n",
    "\n",
    "issued = arachne_issued(data)\n",
    "print(issued)\n",
    "\n",
    "modified = arachne_modified(data)\n",
    "print(modified)\n",
    "\n"
   ]
  }
 ],
 "metadata": {
  "kernelspec": {
   "display_name": "Python 3",
   "language": "python",
   "name": "python3"
  },
  "language_info": {
   "codemirror_mode": {
    "name": "ipython",
    "version": 3
   },
   "file_extension": ".py",
   "mimetype": "text/x-python",
   "name": "python",
   "nbconvert_exporter": "python",
   "pygments_lexer": "ipython3",
   "version": "3.10.11"
  }
 },
 "nbformat": 4,
 "nbformat_minor": 2
}
