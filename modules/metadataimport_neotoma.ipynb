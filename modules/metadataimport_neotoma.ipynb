{
 "cells": [
  {
   "cell_type": "code",
   "execution_count": 1,
   "metadata": {},
   "outputs": [],
   "source": [
    "#Harvest metadata from Neotoma\n",
    "# \n",
    "#Given an datasets ID."
   ]
  },
  {
   "cell_type": "code",
   "execution_count": 2,
   "metadata": {},
   "outputs": [],
   "source": [
    "#Parameters for test in ipynb\n",
    "## Neue ID vergeben!\n",
    "test_id = \"\""
   ]
  },
  {
   "cell_type": "code",
   "execution_count": 3,
   "metadata": {},
   "outputs": [
    {
     "ename": "ModuleNotFoundError",
     "evalue": "No module named 'requests'",
     "output_type": "error",
     "traceback": [
      "\u001b[1;31m---------------------------------------------------------------------------\u001b[0m",
      "\u001b[1;31mModuleNotFoundError\u001b[0m                       Traceback (most recent call last)",
      "Cell \u001b[1;32mIn[3], line 6\u001b[0m\n\u001b[0;32m      3\u001b[0m data \u001b[38;5;241m=\u001b[39m {}\n\u001b[0;32m      5\u001b[0m \u001b[38;5;66;03m#Libraries\u001b[39;00m\n\u001b[1;32m----> 6\u001b[0m \u001b[38;5;28;01mimport\u001b[39;00m\u001b[38;5;250m \u001b[39m\u001b[38;5;21;01mrequests\u001b[39;00m\n\u001b[0;32m      7\u001b[0m \u001b[38;5;28;01mimport\u001b[39;00m\u001b[38;5;250m \u001b[39m\u001b[38;5;21;01mjson\u001b[39;00m\n",
      "\u001b[1;31mModuleNotFoundError\u001b[0m: No module named 'requests'"
     ]
    }
   ],
   "source": [
    "#Variables\n",
    "neotoma_api = \"https://api.neotomadb.org/v2.0/data/datasets/\"\n",
    "data = {}\n",
    "\n",
    "#Libraries\n",
    "import requests\n",
    "import json"
   ]
  },
  {
   "cell_type": "code",
   "execution_count": null,
   "metadata": {},
   "outputs": [],
   "source": [
    "#Constant Values only for this repository\n",
    "# has_access_rights = https://creativecommons.org/licenses/by/4.0/deed.en\n"
   ]
  },
  {
   "cell_type": "code",
   "execution_count": null,
   "metadata": {},
   "outputs": [],
   "source": [
    "#Functions\n",
    "\n",
    "#Retrieves the whhole json object and saves it to the variable data\n",
    "def neotoma_get_metadata(neotoma_api, datasets_id, data):\n",
    "    url = neotoma_api + datasets_id\n",
    "    response = requests.get(url)\n",
    "    data = response.json()\n",
    "    return data\n",
    "\n",
    "#Returns the identifier of the entity\n",
    "def neotoma_identifier(data):\n",
    "    identifier = data[\"site\"][\"siteid\"]\n",
    "    return identifier\n",
    "\n",
    "#Returns the title of the entity\n",
    "def neotoma_title(data):\n",
    "    title = data[\"site\"][\"sitename\"]\n",
    "    return title\n",
    "\n",
    "#Returns the description of the entity\n",
    "def neotoma_description(data):\n",
    "    description = data[\"site\"][\"sitedescription\"]\n",
    "    return description\n",
    "\n",
    "#Returns the creator name of the entity\n",
    "def neotoma_creator_name(data):\n",
    "    creator_name = data[\"site\"][\"datasets\"][\"datasetpi\"]\n",
    "    return creator_name\n",
    "\n",
    "#Returns the original_id of the entity\n",
    "def neotoma_has_original_id(data):\n",
    "    has_original_id = data[\"site\"][\"datasets\"][\"datasetid\"]\n",
    "    return has_original_id\n",
    "\n",
    "#Returns the landing page of the entity\n",
    "def neotoma_has_landing_page(data):\n",
    "    has_landing_page = data[\"site\"][\"datasets\"][\"doi\"]\n",
    "    return has_landing_page\n",
    "\n",
    "#Returns the temporal coverage of the entity\n",
    "def neotoma_has_temporal_coverage(data):\n",
    "    has_temporal_coverage = data[\"site\"][\"datasets\"][\"agerange\"]\n",
    "    return has_temporal_coverage\n",
    "\n",
    "#Returns the spatial coverage of the entity\n",
    "def neotoma_has_spatial_coverage(data):\n",
    "    has_spatial_coverage = data[\"site\"][\"geography\"]\n",
    "    return has_spatial_coverage\n",
    "\n",
    "#Returns the beginning of the period of the entity\n",
    "def neotoma_p_from(data):\n",
    "    has_p_from = data[\"site\"][\"datasets\"][\"agerange\"][\"ageold\"]\n",
    "    return has_p_from\n",
    "\n",
    "#Returns the end of the period of the entity\n",
    "def neotoma_p_until(data):\n",
    "    has_p_until = data[\"site\"][\"datasets\"][\"agerange\"][\"ageyoung\"]\n",
    "    return has_p_until\n",
    "\n",
    "#Returns the coordinate system of the entity\n",
    "def neotoma_has_coordinate_system(data):\n",
    "    has_coordinate_system = data[\"site\"][\"geography\"]\n",
    "    return has_coordinate_system\n",
    "\n",
    "#Returns the latitude of the point of the entity\n",
    "def neotoma_point_lat(data):\n",
    "    point_lat = data[\"site\"][\"geography\"]\n",
    "    return point_lat\n",
    "\n",
    "#Returns the longitude of the point of the entity\n",
    "def neotoma_point_long(data):\n",
    "    point_long = data[\"site\"][\"geography\"]\n",
    "    return point_long\n",
    "\n",
    "#Returns the place name of the entity\n",
    "def neotoma_has_place_name(data):\n",
    "    has_place_name = data[\"site\"][\"geopolitical\"]\n",
    "    return has_place_name"
   ]
  },
  {
   "cell_type": "code",
   "execution_count": null,
   "metadata": {},
   "outputs": [],
   "source": [
    "#Test functions\n",
    "\n",
    "data = neotoma_get_metadata(neotoma_api, test_id, data)\n",
    "print(data)\n",
    "\n",
    "title = neotoma_title(data)\n",
    "print(title)\n",
    "\n",
    "identifier = neotoma_identifier(data)\n",
    "print(identifier)\n",
    "\n",
    "description = neotoma_description(data)\n",
    "print(description)\n",
    "\n",
    "\n"
   ]
  }
 ],
 "metadata": {
  "kernelspec": {
   "display_name": "Python 3",
   "language": "python",
   "name": "python3"
  },
  "language_info": {
   "codemirror_mode": {
    "name": "ipython",
    "version": 3
   },
   "file_extension": ".py",
   "mimetype": "text/x-python",
   "name": "python",
   "nbconvert_exporter": "python",
   "pygments_lexer": "ipython3",
   "version": "3.10.1"
  }
 },
 "nbformat": 4,
 "nbformat_minor": 2
}
