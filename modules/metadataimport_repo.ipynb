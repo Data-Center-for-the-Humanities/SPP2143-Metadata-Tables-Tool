{
 "cells": [
  {
   "cell_type": "code",
   "execution_count": null,
   "metadata": {},
   "outputs": [],
   "source": [
    "#Harvest metadata from repo\n",
    "# \n",
    "#Given an name ID."
   ]
  },
  {
   "cell_type": "code",
   "execution_count": null,
   "metadata": {},
   "outputs": [],
   "source": [
    "#Parameters for test in ipynb\n",
    "# Neue ID vergeben\n",
    "test_id = \"\""
   ]
  },
  {
   "cell_type": "code",
   "execution_count": null,
   "metadata": {},
   "outputs": [],
   "source": [
    "#Variables\n",
    "repo_api = \"https://repo.dainst.org/api/3/action/package_show?id=\"\n",
    "data = {}\n",
    "\n",
    "#Libraries\n",
    "import requests\n",
    "import json"
   ]
  },
  {
   "cell_type": "code",
   "execution_count": null,
   "metadata": {},
   "outputs": [],
   "source": [
    "#Constant Values only for this repository\n",
    "#has_access_policy\n",
    "#has_access_rights\n"
   ]
  },
  {
   "cell_type": "code",
   "execution_count": null,
   "metadata": {},
   "outputs": [],
   "source": [
    "#Functions\n",
    "\n",
    "#Retrieves the whole json object and saves it to the variable data\n",
    "def repo_get_metadata(repo_api, name_id, data):\n",
    "    url = repo_api + name_id\n",
    "    response = requests.get(url)\n",
    "    data = response.json()\n",
    "    return data\n",
    "\n",
    "#Returns the title of the entity\n",
    "def repo_title(data):\n",
    "    title = data[\"title\"]\n",
    "    return title\n",
    "\n",
    "#Returns the description of the entity\n",
    "def repo_description(data):\n",
    "    title = data[\"notes\"]\n",
    "    return title\n",
    "\n",
    "#Returns the date of issue of the entity\n",
    "#es gibt einige Daten, aber nur \"year_of_publication\" trifft auf issued wirklich zu\n",
    "def repo_issued(data):\n",
    "    issued = data[\"year_of_publication\"]\n",
    "    return issued\n",
    "\n",
    "#Returns the date of last modification of the entity\n",
    "def repo_modified(data):\n",
    "    modified = data[\"metadata_modified\"]\n",
    "    return modified\n",
    "\n",
    "#Returns the creator name of the entity\n",
    "def repo_creator_name(data):\n",
    "    creator_name = data[\"creator_user_id\"]\n",
    "    return creator_name\n",
    "\n",
    "#Returns the owner name of the entity\n",
    "def repo_owner_name(data):\n",
    "    owner_name = data[\"owner_org\"]\n",
    "    return owner_name\n",
    "\n",
    "#Returns the responsible name of the entity\n",
    "def repo_responsible_name(data):\n",
    "    responsible_name = data[\"maintainer\"]\n",
    "    return responsible_name\n",
    "\n",
    "#Returns the original id of the entity\n",
    "def repo_has_original_id(data):\n",
    "    has_original_id = data[\"id\"]\n",
    "    return has_original_id\n",
    "\n",
    "#Returns the language of the entity\n",
    "def repo_has_language(data):\n",
    "    language = data[\"in_language\"]\n",
    "    return language\n",
    "\n",
    "#Returns the date and time of creation of the entity\n",
    "def repo_has_was_created_on(data):\n",
    "    was_created_on = data[\"created\"]\n",
    "    return was_created_on\n",
    "\n",
    "#Returns the landing page of the entity\n",
    "def repo_has_landing_page(data):\n",
    "    has_landing_page = data[\"doi\"]\n",
    "    return has_landing_page\n",
    "\n",
    "#Returns the extent of the entity\n",
    "def repo_has_extent(data):\n",
    "    has_extent = data[\"num_recources\"]\n",
    "    return has_extent"
   ]
  },
  {
   "cell_type": "code",
   "execution_count": null,
   "metadata": {},
   "outputs": [
    {
     "name": "stdout",
     "output_type": "stream",
     "text": [
      "{'created': '2024-05-29T12:10:44.745619+00:00', 'modified': '2024-05-29T12:10:44.950824+00:00', 'id': 11385690, 'conceptrecid': '11385689', 'doi': '10.5281/zenodo.11385690', 'conceptdoi': '10.5281/zenodo.11385689', 'doi_url': 'https://doi.org/10.5281/zenodo.11385690', 'metadata': {'title': 'Archaeobotanical Shea Tree Evidence', 'doi': '10.5281/zenodo.11385690', 'publication_date': '2024-05-29', 'description': '<p><span>Evidence for shea trees collected by Alexa H&ouml;hn in the project \"Cultivated Landscapes\" and data curation by Lukas Lammers in \"FAIR.rdm\" inside the SPP2143 \"Entangled Africa\".</span></p>\\n<p><strong><span>The data is represented in the iDAI.geoserver: <a href=\"https://geoserver.dainst.org/maps/6334/\">https://geoserver.dainst.org/maps/6334/</a></span></strong></p>', 'access_right': 'open', 'creators': [{'name': 'Höhn, Alexa', 'affiliation': 'Goethe University Frankfurt', 'orcid': '0000-0003-2943-7858'}], 'contributors': [{'name': 'Lammers, Lukas', 'affiliation': 'University of Cologne', 'type': 'DataManager', 'orcid': '0000-0002-8200-0199'}], 'keywords': ['spp2143', 'shea', 'testae', 'wood charcoal', 'africa', 'p05'], 'version': '1.1.0', 'language': 'eng', 'resource_type': {'title': 'Dataset', 'type': 'dataset'}, 'alternate_identifiers': [{'identifier': 'https://geoserver.dainst.org/maps/6334/'}], 'license': {'id': 'cc-by-4.0'}, 'relations': {'version': [{'index': 0, 'is_last': True, 'parent': {'pid_type': 'recid', 'pid_value': '11385689'}}]}}, 'title': 'Archaeobotanical Shea Tree Evidence', 'links': {'self': 'https://zenodo.org/api/records/11385690', 'self_html': 'https://zenodo.org/records/11385690', 'doi': 'https://doi.org/10.5281/zenodo.11385690', 'self_doi': 'https://doi.org/10.5281/zenodo.11385690', 'self_doi_html': 'https://zenodo.org/doi/10.5281/zenodo.11385690', 'parent': 'https://zenodo.org/api/records/11385689', 'parent_html': 'https://zenodo.org/records/11385689', 'parent_doi': 'https://doi.org/10.5281/zenodo.11385689', 'parent_doi_html': 'https://zenodo.org/doi/10.5281/zenodo.11385689', 'self_iiif_manifest': 'https://zenodo.org/api/iiif/record:11385690/manifest', 'self_iiif_sequence': 'https://zenodo.org/api/iiif/record:11385690/sequence/default', 'files': 'https://zenodo.org/api/records/11385690/files', 'media_files': 'https://zenodo.org/api/records/11385690/media-files', 'archive': 'https://zenodo.org/api/records/11385690/files-archive', 'archive_media': 'https://zenodo.org/api/records/11385690/media-files-archive', 'latest': 'https://zenodo.org/api/records/11385690/versions/latest', 'latest_html': 'https://zenodo.org/records/11385690/latest', 'versions': 'https://zenodo.org/api/records/11385690/versions', 'draft': 'https://zenodo.org/api/records/11385690/draft', 'reserve_doi': 'https://zenodo.org/api/records/11385690/draft/pids/doi', 'access_links': 'https://zenodo.org/api/records/11385690/access/links', 'access_grants': 'https://zenodo.org/api/records/11385690/access/grants', 'access_users': 'https://zenodo.org/api/records/11385690/access/users', 'access_request': 'https://zenodo.org/api/records/11385690/access/request', 'access': 'https://zenodo.org/api/records/11385690/access', 'communities': 'https://zenodo.org/api/records/11385690/communities', 'communities-suggestions': 'https://zenodo.org/api/records/11385690/communities-suggestions', 'requests': 'https://zenodo.org/api/records/11385690/requests'}, 'updated': '2024-05-29T12:10:44.950824+00:00', 'recid': '11385690', 'revision': 4, 'files': [{'id': '3fe63b3b-6dd4-47b6-946c-737d75fcfc60', 'key': 'Höhn_Shea_Tree_Nachweise.xlsx', 'size': 28861, 'checksum': 'md5:2a3035ffead717585f00f7732d027ffd', 'links': {'self': 'https://zenodo.org/api/records/11385690/files/Höhn_Shea_Tree_Nachweise.xlsx/content'}}], 'swh': {}, 'owners': [{'id': '246390'}], 'status': 'published', 'stats': {'downloads': 6, 'unique_downloads': 5, 'views': 44, 'unique_views': 36, 'version_downloads': 6, 'version_unique_downloads': 5, 'version_unique_views': 36, 'version_views': 44}, 'state': 'done', 'submitted': True}\n",
      "Archaeobotanical Shea Tree Evidence\n"
     ]
    }
   ],
   "source": [
    "#Test functions\n",
    "\n",
    "data = repo_get_metadata(repo_api, name_id, data)\n",
    "print(data)\n",
    "\n",
    "title = repo_title(data)\n",
    "print(title)\n",
    "\n"
   ]
  }
 ],
 "metadata": {
  "kernelspec": {
   "display_name": "Python 3",
   "language": "python",
   "name": "python3"
  },
  "language_info": {
   "codemirror_mode": {
    "name": "ipython",
    "version": 3
   },
   "file_extension": ".py",
   "mimetype": "text/x-python",
   "name": "python",
   "nbconvert_exporter": "python",
   "pygments_lexer": "ipython3",
   "version": "3.12.9"
  }
 },
 "nbformat": 4,
 "nbformat_minor": 2
}
